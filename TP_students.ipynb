{
 "cells": [
  {
   "cell_type": "markdown",
   "metadata": {},
   "source": [
    "# TP noté pour le cours d'Optimisation pour l'apprentissage\n",
    "\n",
    "\n",
    "Les trois premières parties de ce TP sont relativement simples, et portent sur la partie déterministe du cours. La quatrièeme et dernière partie, indépendante, est plus conséquente et porte sur la partie stochastique du cours."
   ]
  },
  {
   "cell_type": "markdown",
   "metadata": {},
   "source": [
    "<p hidden>Here are some Latex definitions</p> \n",
    "\n",
    "$\\newcommand{\\R}{\\mathbb{R}}$\n",
    "$\\newcommand{\\N}{\\mathcal{N}}$\n",
    "$\\newcommand{\\RR}{\\mathbb{R}}$\n",
    "$\\newcommand{\\E}{\\mathbb{E}}$\n",
    "$\\newcommand{\\Mm}{\\mathcal{M}}$\n",
    "$\\newcommand{\\Ll}{\\mathcal{L}}$"
   ]
  },
  {
   "cell_type": "code",
   "execution_count": 203,
   "metadata": {},
   "outputs": [],
   "source": [
    "import numpy as np\n",
    "from numpy.linalg import norm, svd\n",
    "from numpy.random import randn\n",
    "import matplotlib.pyplot as plt\n",
    "import math"
   ]
  },
  {
   "cell_type": "code",
   "execution_count": 204,
   "metadata": {},
   "outputs": [],
   "source": [
    "# Permet a une cellule d'avoir plus d'un display en sortie\n",
    "from IPython.core.interactiveshell import InteractiveShell\n",
    "InteractiveShell.ast_node_interactivity = \"all\"\n",
    "# Seed for np.random\n",
    "np.random.seed(seed=78)"
   ]
  },
  {
   "cell_type": "markdown",
   "metadata": {},
   "source": [
    "## I. Algorithme du gradient pour une fonction quadratique\n",
    "\n",
    "Etant donné $A$ une matrice symmétrique de $\\R^{N\\times N}$, et $b\\in \\R^N$, on cherche obtenir un vecteur minimisant la fonction\n",
    "\\begin{equation}\n",
    "f(x) = \\frac{1}{2}\\Vert Ax - b \\Vert^2.\n",
    "\\tag{1}\n",
    "\\end{equation}\n",
    "\n",
    "\n",
    "On rappelle l'**Algorithme du Gradient à Pas Fixe** pour une fonction de gradient $L$-Lipschitzien:\n",
    "\n",
    "| | | |\n",
    "|-|-|-|\n",
    "|(GPF)| On choisit $x_0$ un vecteur de $\\R^N$ et $\\rho \\in ]0,2/L[$ un pas fixe. |\n",
    "|  | Pour $k\\geq 0$ : $x_{k+1}  = x_k  - \\rho \\nabla f(x_k)$. |"
   ]
  },
  {
   "cell_type": "markdown",
   "metadata": {},
   "source": [
    "Voici quelques commandes python dont vous pourrez avoir besoin:\n",
    "\n",
    "| | |\n",
    "|-|-|\n",
    "|`randn(m,n)`| Génère une matrice aléatoire dans $\\Mm_{m,n}(\\RR)$ |\n",
    "| `np.zeros((m,n))` | Génère une matrice nulle dans $\\Mm_{m,n}(\\RR)$ |\n",
    "| `np.ones((m,n))` | Génère une matrice remplie de $1$ dans $\\Mm_{m,n}(\\RR)$ |\n",
    "| `A.T` | Transposée de la matrice `A` |\n",
    "| `A@B` | Produit entre deux matrices |\n",
    "| `norm(A,2)` | Plus grande valeur singulière de `A` : $\\sigma_{min}(A)$ |\n",
    "| `norm(A,-2)` | Plus petite valeur singulière de `A` : $\\sigma_{max}(A)$ |\n",
    "| `norm(x)` | Norme Euclidienne du vecteur `x` |\n",
    "| `a = []` | Définit la liste vide `a` |\n",
    "| `a.append(18)` | Rajoute `18` à la fin de la liste `a` |\n"
   ]
  },
  {
   "cell_type": "markdown",
   "metadata": {},
   "source": [
    "**1)** Définir une matrice $A \\in \\Mm_{50,100}(\\RR)$, et un vecteur $y \\in \\RR^{50}$, tous deux alétoires. On utilisera la fonction `randn(m,n)` qui génère une matrice dans $\\Mm_{m,n}(\\RR)$ dont les coefficients suivent la loi normale centrée réduite. \n",
    "\n",
    "Ici, et durant toute la suite du TP, les **_vecteurs_** devront être considérés comme des matrices sous forme de vecteurs **_colonne_**."
   ]
  },
  {
   "cell_type": "code",
   "execution_count": 205,
   "metadata": {},
   "outputs": [],
   "source": [
    "A = randn(50,100)\n",
    "y = randn(50,)"
   ]
  },
  {
   "cell_type": "code",
   "execution_count": 206,
   "metadata": {},
   "outputs": [
    {
     "data": {
      "text/plain": [
       "((50, 100), dtype('float64'))"
      ]
     },
     "execution_count": 206,
     "metadata": {},
     "output_type": "execute_result"
    },
    {
     "data": {
      "text/plain": [
       "((50,), dtype('float64'))"
      ]
     },
     "execution_count": 206,
     "metadata": {},
     "output_type": "execute_result"
    }
   ],
   "source": [
    "A.shape, A.dtype\n",
    "y.shape, y.dtype"
   ]
  },
  {
   "cell_type": "markdown",
   "metadata": {},
   "source": [
    "**2)** Rappel du cours/TD: Le gradient de la fonction $f$ en $x$ vaut $\\nabla f(x) = A^*(Ax-b)$ et $\\nabla^2 f(x) \\equiv A^*A$. Calculer $L$, la constante de Lipschitz du gradient de $f$."
   ]
  },
  {
   "cell_type": "code",
   "execution_count": 207,
   "metadata": {},
   "outputs": [],
   "source": [
    "# Definition of f, using square of the norm of Ax-y\n",
    "def f(x, b):\n",
    "    return 1/2*math.pow(norm(A@x-b),2)\n",
    "\n",
    "def grad_f(A, x, b):\n",
    "    return A.T@(A@x-b)\n",
    "\n",
    "def gradsqr_f():\n",
    "    return A.T@A\n",
    "\n",
    "L = math.pow(norm(A, 2),2)"
   ]
  },
  {
   "cell_type": "code",
   "execution_count": 208,
   "metadata": {},
   "outputs": [
    {
     "data": {
      "text/plain": [
       "287.310917398646"
      ]
     },
     "execution_count": 208,
     "metadata": {},
     "output_type": "execute_result"
    }
   ],
   "source": [
    "L"
   ]
  },
  {
   "cell_type": "markdown",
   "metadata": {},
   "source": [
    "**3.1)** Définir une fonction `algo_gradient` qui:\n",
    "- prend en arguments une matrice `A`, un vecteur `b`, un point initial `x0`, un pas `rho`, et un nombre d'itérations maximal `itermax`\n",
    "- applique l'algorithme du gradient à pas constant à $f$, en partant de `x0`, pendant `itermax` itérations\n",
    "- renvoie le dernier itéré de la suite"
   ]
  },
  {
   "cell_type": "code",
   "execution_count": 209,
   "metadata": {},
   "outputs": [],
   "source": [
    "def algo_gradient(A, b, x0, rho, itermax):\n",
    "    for i in range(itermax):\n",
    "        x = x0 - rho*grad_f(A, x0, b) \n",
    "        x0 = x\n",
    "    return x"
   ]
  },
  {
   "cell_type": "markdown",
   "metadata": {},
   "source": [
    "**3.2)** Vérifier que votre fonction marche bien, en la testant avec $\\rho=1/L$, `nmax`$=10^3$ et un point initial de votre choix dans $\\RR^{100}$. Vous vérifierez également que la solution `x` ainsi obtenue satisfait $\\nabla f(x) \\simeq 0$."
   ]
  },
  {
   "cell_type": "code",
   "execution_count": 210,
   "metadata": {},
   "outputs": [],
   "source": [
    "x0 = randn(100,)\n",
    "x = algo_gradient(A, y, x0, 1/L, 1000)"
   ]
  },
  {
   "cell_type": "code",
   "execution_count": 211,
   "metadata": {},
   "outputs": [
    {
     "data": {
      "text/plain": [
       "array([ 1.46824898e-15, -1.26337931e-14,  4.34515599e-15, -1.03491590e-15,\n",
       "        7.89056913e-15,  1.73027983e-14,  2.12252718e-15, -3.06288907e-15,\n",
       "       -3.02718179e-15, -1.39572068e-14, -5.40067876e-15,  1.51265318e-14,\n",
       "        1.62008566e-15,  2.51560891e-15, -4.83179132e-15, -1.16227268e-14,\n",
       "        1.72718735e-15,  1.20749978e-15, -3.74343797e-16, -1.68599287e-14,\n",
       "        9.10407610e-15, -4.48220401e-16, -1.06034283e-14, -1.11534291e-14,\n",
       "        5.60615382e-16, -3.07786244e-15, -2.56422585e-15,  2.94407959e-15,\n",
       "       -9.38668802e-15, -4.40407996e-15,  1.82967533e-14, -8.50659626e-15,\n",
       "       -1.24097273e-14, -1.40846254e-14,  7.66332266e-16,  1.11720772e-14,\n",
       "       -5.52231967e-15, -4.29809304e-15,  6.92846542e-15,  1.38200822e-14,\n",
       "        8.50225359e-15,  1.18387542e-14, -1.52762225e-14,  2.38887764e-15,\n",
       "       -1.22016673e-15,  4.27653509e-15, -1.02506361e-15, -1.79020015e-15,\n",
       "       -1.14870478e-14,  1.17706918e-14,  1.13737869e-14,  1.74513365e-15,\n",
       "       -1.83468748e-15,  1.61481150e-14, -6.62738891e-15,  4.46908578e-16,\n",
       "        4.16308627e-16,  5.71498350e-15,  1.79432414e-15, -1.31839336e-14,\n",
       "       -1.54962797e-14, -1.07081908e-14, -5.87480862e-15,  1.44808663e-15,\n",
       "       -2.45959473e-15,  1.30984474e-14, -2.42284721e-15, -2.60804994e-15,\n",
       "        6.96929826e-15,  8.00805732e-15,  5.23544867e-15, -1.05312867e-14,\n",
       "        2.85433429e-15,  3.96987123e-15, -1.54274352e-15, -5.43155095e-16,\n",
       "       -7.68541630e-15, -4.76918491e-15, -2.30820633e-14,  8.89097470e-15,\n",
       "       -7.02946906e-15, -1.17002308e-14,  1.98244590e-14, -4.04901652e-15,\n",
       "        1.21427845e-15,  1.20054951e-15,  1.35057737e-14,  1.31143997e-14,\n",
       "        4.05065336e-15, -6.31135542e-15, -8.10908664e-17,  7.93672115e-15,\n",
       "        5.74829955e-16,  1.30967372e-14,  7.55541446e-16,  2.46150358e-15,\n",
       "       -2.86838255e-14, -3.74021412e-15,  6.04395978e-15,  1.61489573e-14])"
      ]
     },
     "execution_count": 211,
     "metadata": {},
     "output_type": "execute_result"
    }
   ],
   "source": [
    "grad_f(A, x, y)"
   ]
  },
  {
   "cell_type": "markdown",
   "metadata": {},
   "source": [
    "**4)** On souhaite maintenant que l'algorithme aille le plus vite possible. Pour cela, on va se servir du cours, où on a vu que l'algorithme du gradient à pas fixe converge le plus vite lorsque $\\rho = \\frac{2}{\\mu+L}$, où $\\mu$ est la plus petite valeur singulière de $A^*A$.\n",
    "\n",
    "**4.1)** Calculer `mu` de deux façons différentes: $\\sigma_{min}(A^*A)$ et $\\sigma_{min}(A)^2$. Que constatez-vous? Lequel donne un résultat satisfaisant? A votre avis, pourquoi? "
   ]
  },
  {
   "cell_type": "code",
   "execution_count": 212,
   "metadata": {},
   "outputs": [],
   "source": [
    "mu_1 = norm(A.T@A,-2)\n",
    "mu_2 = math.pow(norm(A,-2),2)"
   ]
  },
  {
   "cell_type": "code",
   "execution_count": 213,
   "metadata": {},
   "outputs": [
    {
     "data": {
      "text/plain": [
       "(4.841868036264159e-17, 8.870793367613178)"
      ]
     },
     "execution_count": 213,
     "metadata": {},
     "output_type": "execute_result"
    }
   ],
   "source": [
    "\n",
    "\n",
    "mu_1, mu_2"
   ]
  },
  {
   "cell_type": "markdown",
   "metadata": {},
   "source": [
    "### We take mu_2 because it is larger and becasue the algorithm does not converge with mu_1 and it does converge with mu_2. With mu_2 rho gives something ~1/L whilst with mu_1 it is ~2/L. We know that it should be approximately 1/L. NEED TO CHANGE"
   ]
  },
  {
   "cell_type": "markdown",
   "metadata": {},
   "source": [
    "Dans la suite, on gardera  `mu` comme étant le plus satisfaisant des deux."
   ]
  },
  {
   "cell_type": "code",
   "execution_count": 214,
   "metadata": {},
   "outputs": [],
   "source": [
    "mu = mu_2"
   ]
  },
  {
   "cell_type": "markdown",
   "metadata": {},
   "source": [
    "**4.2)** Réécrire la fonction `algo_gradient` de telle manière qu'elle renvoie un nouveau second argument `values`, qui est une *liste* contenant toutes les valeurs $f(x^k)$.  "
   ]
  },
  {
   "cell_type": "code",
   "execution_count": 215,
   "metadata": {},
   "outputs": [],
   "source": [
    "# New version with evaluation of function\n",
    "def algo_gradient2(A, b, x0, rho, itermax):\n",
    "    values = []\n",
    "    values.append(f(x0,y))\n",
    "    \n",
    "    for i in range(itermax):\n",
    "        x = x0 - rho*grad_f(A, x0, b) \n",
    "        x0 = x\n",
    "        values.append(f(x0,y))\n",
    "    return x0, values"
   ]
  },
  {
   "cell_type": "markdown",
   "metadata": {},
   "source": [
    "**4.3)** Utiliser l'algorithme comme à la question **3.2)** en remplaçant le pas $1/L$ par $\\frac{2}{\\mu+L}$. Tracer la courbe $f(x^k)$ correspondante pour les deux choix de pas, et comparer.\n",
    "\n",
    "En pratique, lorsqu'on ne connait pas $\\mu$, il est conseillé de prendre comme pas $\\rho = \\beta/L$ avec $\\beta$ proche de $1.7\\sim 1.8$. Est-ce que cela marche bien sur cet exemple? Pourquoi à votre avis? Ce choix est-il équivalent à supposer quelque chose à propose de $f$?"
   ]
  },
  {
   "cell_type": "code",
   "execution_count": 216,
   "metadata": {},
   "outputs": [],
   "source": [
    "x_mu, values_mu = algo_gradient2(A, y, x0, 2/(mu_2+L), 1000)\n",
    "x_l, values_l =  algo_gradient2(A, y, x0, 1/L, 1000)\n",
    "x_beta, values_beta = algo_gradient2(A, y, x0, 1.75/L, 1000)"
   ]
  },
  {
   "cell_type": "code",
   "execution_count": 217,
   "metadata": {},
   "outputs": [
    {
     "data": {
      "text/plain": [
       "<Figure size 432x288 with 0 Axes>"
      ]
     },
     "execution_count": 217,
     "metadata": {},
     "output_type": "execute_result"
    },
    {
     "data": {
      "text/plain": [
       "[<matplotlib.lines.Line2D at 0x7f957c068940>]"
      ]
     },
     "execution_count": 217,
     "metadata": {},
     "output_type": "execute_result"
    },
    {
     "data": {
      "text/plain": [
       "[<matplotlib.lines.Line2D at 0x7f9595896710>]"
      ]
     },
     "execution_count": 217,
     "metadata": {},
     "output_type": "execute_result"
    },
    {
     "data": {
      "text/plain": [
       "[<matplotlib.lines.Line2D at 0x7f957c533780>]"
      ]
     },
     "execution_count": 217,
     "metadata": {},
     "output_type": "execute_result"
    },
    {
     "data": {
      "text/plain": [
       "<matplotlib.legend.Legend at 0x7f957c533dd8>"
      ]
     },
     "execution_count": 217,
     "metadata": {},
     "output_type": "execute_result"
    },
    {
     "data": {
      "image/png": "[encoded data removed]",
      "text/plain": [
       "<Figure size 432x288 with 1 Axes>"
      ]
     },
     "metadata": {},
     "output_type": "display_data"
    }
   ],
   "source": [
    "a = []\n",
    "for i in range(1,1002):\n",
    "    a.append(i)\n",
    "\n",
    "plt.figure()\n",
    "plt.yscale(\"log\")\n",
    "plt.plot(a, values_mu)\n",
    "plt.plot(a, values_beta)\n",
    "plt.plot(a, values_l)\n",
    "plt.legend([\"Mu\",\"Beta\", \"L\"])"
   ]
  },
  {
   "cell_type": "markdown",
   "metadata": {},
   "source": [
    "### Here taking beta to be 1.7 ~ 1.8, the gradient descent algorithm works ok, the line might not be optimal but the values continuously go down and that is the main thing. NEED TO CHANGE "
   ]
  },
  {
   "cell_type": "markdown",
   "metadata": {},
   "source": [
    "# II. Algorithme du gradient proximal\n",
    "\n",
    "Revenons au contexte du I. Nous avons vu que l'on pouvait minimiser $\\Vert Ax-b\\Vert^2$ avec l'algorithme du gradient, et donc résoudre l'équation $Ax=b$. Mais que peut-on dire de la solution que l'on a ainsi obtenue?"
   ]
  },
  {
   "cell_type": "code",
   "execution_count": 218,
   "metadata": {},
   "outputs": [],
   "source": [
    "######################################################################\n",
    "# N'exécuter cette cellule qu'une seule fois (prend un peu de temps) #\n",
    "######################################################################\n",
    "import sys\n",
    "#!{sys.executable} -m pip install git+https://github.com/Guillaume-Garrigos/invprob.git\n",
    "# python -m pip install git+https://github.com/Guillaume-Garrigos/invprob.git"
   ]
  },
  {
   "cell_type": "code",
   "execution_count": 219,
   "metadata": {},
   "outputs": [],
   "source": [
    "from invprob import sparse\n",
    "from invprob.sparse import stem"
   ]
  },
  {
   "cell_type": "markdown",
   "metadata": {},
   "source": [
    "**1.1)** Utiliser la fonction `sparse.randn` pour générer un vecteur $x_{origin}$ de $\\RR^{100}$ qui soit *parcimonieux* (*sparse* en VO), c'est-à-dire qui possède beaucoup de zéros. La fonction `stem` permet d'afficher les composantes de ce vecteur."
   ]
  },
  {
   "cell_type": "code",
   "execution_count": 220,
   "metadata": {},
   "outputs": [
    {
     "name": "stderr",
     "output_type": "stream",
     "text": [
      "/home/alexander/anaconda3/lib/python3.6/site-packages/matplotlib/cbook/deprecation.py:107: MatplotlibDeprecationWarning: stem() got an unexpected keyword argument 'use_line_collection'. This will raise a TypeError in future versions.\n",
      "  warnings.warn(message, mplDeprecation, stacklevel=1)\n"
     ]
    },
    {
     "data": {
      "text/plain": [
       "Text(0.5,1,'Un beau signal bien parcimonieux')"
      ]
     },
     "execution_count": 220,
     "metadata": {},
     "output_type": "execute_result"
    },
    {
     "data": {
      "image/png": "[encoded data removed]",
      "text/plain": [
       "<Figure size 432x288 with 1 Axes>"
      ]
     },
     "metadata": {},
     "output_type": "display_data"
    }
   ],
   "source": [
    "nb_composantes = 10\n",
    "x_origin = sparse.randn(100,1,nb_composantes)\n",
    "stem(x_origin)\n",
    "plt.title(\"Un beau signal bien parcimonieux\")"
   ]
  },
  {
   "cell_type": "markdown",
   "metadata": {},
   "source": [
    "**1.2)** Définir une matrice aléatoire $A \\in \\Mm_{50,100}(\\RR)$, et $b:=Ax_{origin}$."
   ]
  },
  {
   "cell_type": "code",
   "execution_count": 221,
   "metadata": {},
   "outputs": [],
   "source": [
    "A = randn(50,100)\n",
    "b = A@x_origin"
   ]
  },
  {
   "cell_type": "markdown",
   "metadata": {},
   "source": [
    "**1.3)** Utiliser l'algorithme du gradient du **I.**, pour calculer une solution du système linéaire $Ax=b$, que l'on notera `x_sol`.\n",
    "Utiliser `stem` pour visualiser si elle ressemble à `x_origin`. On utilisera un grand nombre d'itérations ($> 10^3$). Que constatez-vous? Est-ce que faire varier les paramètres de l'algorithme change quelque chose? Expliquer ce qui se passe."
   ]
  },
  {
   "cell_type": "code",
   "execution_count": 222,
   "metadata": {},
   "outputs": [],
   "source": [
    "x_sol = algo_gradient(A, b, x_origin,1.7, 1001)\n"
   ]
  },
  {
   "cell_type": "code",
   "execution_count": 223,
   "metadata": {},
   "outputs": [
    {
     "name": "stderr",
     "output_type": "stream",
     "text": [
      "/home/alexander/anaconda3/lib/python3.6/site-packages/matplotlib/cbook/deprecation.py:107: MatplotlibDeprecationWarning: stem() got an unexpected keyword argument 'use_line_collection'. This will raise a TypeError in future versions.\n",
      "  warnings.warn(message, mplDeprecation, stacklevel=1)\n"
     ]
    },
    {
     "data": {
      "image/png": "[encoded data removed]",
      "text/plain": [
       "<Figure size 432x288 with 1 Axes>"
      ]
     },
     "metadata": {},
     "output_type": "display_data"
    }
   ],
   "source": [
    "# code pour tracer deux signaux x_origin et x_sol\n",
    "stem(x_origin, \"C0\")\n",
    "stem(x_sol, \"C1\")\n",
    "_=plt.legend([\"x_origin\",\"x_sol\"])"
   ]
  },
  {
   "cell_type": "markdown",
   "metadata": {},
   "source": [
    "### If we change the parameters nothing changes. This is because x_origin is already a solution to Ax=b. We are already in our minimum at that point and the gradient has nowhere to go, so the algorithm does not change at each iteration and x_origin = x_sol.  "
   ]
  },
  {
   "cell_type": "markdown",
   "metadata": {},
   "source": [
    "**2)** Le système linéaire $Ax=b$ admet une infinité de solutions, ce qui est normal vu les dimensions de la matrice $A$. Cela veut donc dire que malgré $b=Ax_{origin}$, on ne pourra pas retrouver ce vecteur $x_{origin}$ en simplement minimisant $\\Vert Ax-b\\Vert^2$.\n",
    "\n",
    "Par contre il se trouve que parmi les solutions de $Ax=b$, $x_{origin}$ est certainement la solution la plus **parcimonieuse**, ce qui se traduit en général par le fait d'avoir une *faible norme L1* (voir figure ci-dessous)."
   ]
  },
  {
   "cell_type": "code",
   "execution_count": 224,
   "metadata": {},
   "outputs": [
    {
     "data": {
      "image/png": "[encoded data removed]",
      "text/plain": [
       "<Figure size 600x400 with 2 Axes>"
      ]
     },
     "metadata": {},
     "output_type": "display_data"
    }
   ],
   "source": [
    "# executer\n",
    "X, Y = [], []\n",
    "value_L1, value_L2 = [], []\n",
    "angles = np.arange(0, 2, 0.02)*np.pi\n",
    "for angle in angles:\n",
    "    x = np.cos(angle)\n",
    "    y = np.sin(angle)\n",
    "    X.append(x)\n",
    "    Y.append(y)\n",
    "    value_L1.append(np.abs(x)+np.abs(y))\n",
    "    value_L2.append(x**2 + y**2)\n",
    "\n",
    "_ = plt.figure(dpi=100)\n",
    "\n",
    "_ = plt.subplot(1, 2, 1)\n",
    "_ = plt.plot(X, Y, 'x')\n",
    "_ = plt.gca().set_aspect('equal')\n",
    "\n",
    "_ = plt.subplot(1, 2, 2)\n",
    "_ = plt.plot(angles, value_L1)\n",
    "_ = plt.plot(angles, value_L2)\n",
    "_ = plt.legend([\"L1\",\"L2\"])\n",
    "_ = plt.xticks([0, np.pi/2, np.pi, np.pi*3/2, 2*np.pi], ['0', '$\\\\frac{\\pi}{2}$', '$\\pi$', '$\\\\frac{3\\pi}{2}$', '$2\\pi$'])\n",
    "_ = plt.title('La norme L1 est minimale en les vecteurs parcimonieux')"
   ]
  },
  {
   "cell_type": "markdown",
   "metadata": {},
   "source": [
    "Donc il est raisonable de penser que $x_{origin}$ est de norme L1 minimale parmi les solutions de $Ax=b$. Autrement dit (et c'est une hypothèse raisonable), $x_{origin}$  est la solution du problème \n",
    "\n",
    "$$ \\min\\limits_{Ax=b} \\Vert x \\Vert_1.  $$\n",
    "\n",
    "Pour résoudre ce problème, on peut le *pénaliser*, c'est-à-dire introduire un paramètre $\\alpha>0$ petit, et résoudre:\n",
    "\n",
    "$$ \\min\\limits_{x} \\alpha \\Vert x \\Vert_1 + \\frac{1}{2}\\Vert Ax-b \\Vert^2. \\tag{$P_\\alpha$}$$\n",
    "\n",
    "\n",
    "On introduit l'**Algorithme du Gradient Proximal** pour la minimisation d'une fonction $f=g+h$ où $h$ est à gradient $L$-Lipschitzien et $g$ quelconque:\n",
    "\n",
    "| | | |\n",
    "|-|-|-|\n",
    "|(GP)| On choisit $x_0$ un vecteur de $\\R^N$ et $\\rho \\in ]0,2/L[$ un pas fixe. |\n",
    "|  | Pour $k\\geq 0$ : $x_{k+1}  = prox_{\\rho g} \\left(x_k  - \\rho \\nabla h(x_k)\\right)$. |\n",
    "\n",
    "où, pour une fonction $\\phi \\in \\Gamma_0(H)$, l'opérateur proximal $prox_\\phi : H \\rightarrow H$ est défini par:\n",
    "\n",
    "$$ prox_\\phi(x) := {\\rm{argmin}}_{x' \\in H}~\\phi(x') + \\frac{1}{2}\\Vert x-x' \\Vert^2.$$"
   ]
  },
  {
   "cell_type": "code",
   "execution_count": 225,
   "metadata": {},
   "outputs": [],
   "source": [
    "from invprob import prox"
   ]
  },
  {
   "cell_type": "markdown",
   "metadata": {},
   "source": [
    "**3)** Pour tout réel $\\beta >0$, il est possible de calculer l'opérateur proximal de la fonction $\\beta \\Vert \\cdot \\Vert_1$ en un vecteur $x \\in \\mathbb{R}^N$, en utilisant la commande `prox.L1(X, beta)`.\n",
    "\n",
    "Tracer le graphe de la fonction $t \\mapsto prox_{\\vert \\cdot \\vert}(t)$ sur l'intervalle $[-2,2]$. Que constatez-vous lorsque $t \\in [-1,1]$? Quel impact pensez-vous que cela aura sur les itérés de l'algorithme du gradient proximal?"
   ]
  },
  {
   "cell_type": "code",
   "execution_count": 226,
   "metadata": {},
   "outputs": [
    {
     "data": {
      "image/png": "[encoded data removed]",
      "text/plain": [
       "<Figure size 432x288 with 1 Axes>"
      ]
     },
     "metadata": {},
     "output_type": "display_data"
    }
   ],
   "source": [
    "x = np.arange(-2, 2, 0.01)\n",
    "y = prox.L1(x,1)\n",
    "line, = plt.plot(x, y)\n",
    "\n",
    "plt.show()"
   ]
  },
  {
   "cell_type": "markdown",
   "metadata": {},
   "source": [
    "### Between -1 and 1 the proximal operator gives 0. The impact is that the algorithm finds itself in an infinite loop of zeros and will indefinitely keep running. PROBABLY NEED TO CHANGE"
   ]
  },
  {
   "cell_type": "markdown",
   "metadata": {},
   "source": [
    "**4)** Ecrire une fonction `algo_gradient_prox` qui \n",
    "- prend en arguments une matrice `A`, un vecteur `b`, un point initial `x0`, un pas `rho`, un nombre d'itérations maximal `itermax`, ainsi que le paramètre `alpha` apparaissant dans le problème $(P_\\alpha)$.\n",
    "- applique l'algorithme du gradient proximal à $f$ , en partant de `x0`, pendant `itermax` itérations. *(Faites **très** attention à qui est $g$ dans la définition de l'algorithme)*\n",
    "- renvoie le dernier itéré de la suite\n",
    "\n",
    "\n",
    "\n"
   ]
  },
  {
   "cell_type": "code",
   "execution_count": 227,
   "metadata": {},
   "outputs": [
    {
     "data": {
      "text/plain": [
       "array([-1.02204832e+26, -1.43041652e+25,  1.74679785e+24, -3.06235999e+23,\n",
       "        5.69294514e+25,  2.85242719e+25, -2.61114745e+25, -4.02670168e+25,\n",
       "       -1.47895388e+26,  8.91043725e+25, -8.58872162e+25,  2.75823167e+25,\n",
       "        1.10497636e+26,  1.99274137e+25,  1.15349752e+26, -3.58972682e+25,\n",
       "        5.78361155e+25,  2.64204149e+25,  8.43106817e+24, -3.06976406e+25,\n",
       "        7.82985020e+25, -4.82441276e+25, -1.01223509e+26,  1.08131385e+26,\n",
       "       -7.76496122e+25,  3.66038848e+25,  2.45894824e+25,  5.34586694e+24,\n",
       "       -6.43369703e+25,  3.05669082e+25,  8.09313533e+25, -7.36079161e+25,\n",
       "       -4.96541589e+24, -8.13107806e+25,  1.23060160e+26, -5.09555179e+25,\n",
       "        9.04437418e+24,  9.14135990e+25,  2.40771597e+25,  3.69533783e+25,\n",
       "        2.27829394e+25,  9.62950246e+24, -1.00909592e+25,  1.43002987e+25,\n",
       "        5.03942608e+24, -6.81242920e+25, -3.25547927e+25, -3.43560569e+25,\n",
       "       -3.95418924e+25,  6.24415420e+25,  1.47209303e+25, -4.52209940e+24,\n",
       "        8.97186354e+25,  6.96753776e+25, -1.72930729e+25, -9.91450219e+24,\n",
       "       -9.62678925e+25, -1.28059318e+25,  4.71224428e+25, -5.78576059e+24,\n",
       "       -6.45921199e+25,  2.34076767e+25, -2.11440859e+25,  1.97991504e+25,\n",
       "       -1.30609336e+25,  1.36503850e+26,  1.99769588e+25,  4.06173082e+25,\n",
       "       -7.28841947e+25, -5.93518979e+25, -6.09264789e+25,  1.45266219e+25,\n",
       "        2.65819792e+25,  9.13218863e+25, -3.97360916e+25,  6.30370132e+25,\n",
       "       -8.53890642e+25,  1.09010197e+25,  7.51016207e+25, -1.33527453e+26,\n",
       "       -6.31729184e+25,  6.94409686e+25,  1.05341499e+26,  4.24109049e+25,\n",
       "        5.14467575e+25, -7.03496618e+25,  2.57778823e+25, -1.13251646e+25,\n",
       "       -5.33672580e+25, -2.97395064e+25,  1.12211999e+25,  5.29404727e+25,\n",
       "       -2.03534525e+25,  2.89303059e+25, -2.80563250e+25,  1.02495886e+25,\n",
       "        5.82227939e+25,  1.99183409e+25, -3.95696087e+25, -3.11971939e+25])"
      ]
     },
     "execution_count": 227,
     "metadata": {},
     "output_type": "execute_result"
    }
   ],
   "source": [
    "##THIS BITCH IS FUCKED SO CANT DO REST OF SECTION ALSO NEED TO CHANGE CODE\n",
    "def algo_gradient_prox(A, b, x0, rho, itermax, alpha):\n",
    "    for i in range(itermax):\n",
    "        x = prox.L1(x0-rho*grad_f(A,x0,b),alpha)\n",
    "        x0 = x\n",
    "    return x\n",
    "   # it = 0\n",
    "  #  x = x0\n",
    "  #  prox_g = prox.L1(x,rho*alpha)\n",
    "  #  grad_h = A.T@(A@x-b)\n",
    "  #  while (it<itermax):\n",
    "     #   prox_g = prox_g * rho*alpha\n",
    "    #    x = prox_g -rho*grad_h\n",
    "    #    grad_h = A.T@(A@x-b)\n",
    "     #   it+=1\n",
    " #   return x\n",
    "A=randn(50,100)\n",
    "x= randn(100,)\n",
    "b= randn(50,)\n",
    "algo_gradient_prox(A, b, x, 1.7, 10, 10)"
   ]
  },
  {
   "cell_type": "markdown",
   "metadata": {},
   "source": [
    "**5)** Utiliser cette fonction avec des petites valeurs pour `alpha` (entre 0.1 et 10) et visualiser le résultat comme précédemment. Commenter vos expériences."
   ]
  },
  {
   "cell_type": "code",
   "execution_count": null,
   "metadata": {},
   "outputs": [],
   "source": []
  },
  {
   "cell_type": "code",
   "execution_count": null,
   "metadata": {},
   "outputs": [],
   "source": []
  },
  {
   "cell_type": "markdown",
   "metadata": {},
   "source": [
    "**6)** Le code qui suit devrait vous permettre d'avoir une visualisation interactive des solutions, en fonction du choix de `alpha`. \n",
    "Vous devrez compléter le code où c'est indiqué.\n",
    "\n",
    "(Pensez à vérifier que vous n'avez pas oublié l'installation requise au tout début du sujet)"
   ]
  },
  {
   "cell_type": "code",
   "execution_count": 228,
   "metadata": {},
   "outputs": [],
   "source": [
    "%matplotlib inline\n",
    "from ipywidgets import interactive\n",
    "import ipywidgets as widgets"
   ]
  },
  {
   "cell_type": "code",
   "execution_count": 229,
   "metadata": {},
   "outputs": [],
   "source": [
    "#L = norm(A.T@A,2)\n",
    "#def widget_solution_l1(alpha): # calcule la solution du problème à alpha donné, et l'affiche\n",
    "  #  x_sol = algo_gradient_prox(# A COMPLETER\n",
    "  #  _ = plt.cla()\n",
    "  #  _ = plt.title(r\"Comparaison entre $x_{origin}$ et la solution $x_{sol}$ pour $\\alpha=$\" + str(np.ceil(alpha*100)/100))\n",
    "  #  _ = sparse.stem(x_origin, \"C0\")\n",
    " #   _ = sparse.stem(x_sol, \"C1\")\n",
    " #   _ = plt.show()"
   ]
  },
  {
   "cell_type": "code",
   "execution_count": 230,
   "metadata": {},
   "outputs": [],
   "source": [
    "#_ = plt.figure()\n",
    "#interactive(widget_solution_l1, \n",
    " #           alpha=widgets.FloatLogSlider(min=-2, max=2, step=0.1, value=1))"
   ]
  },
  {
   "cell_type": "markdown",
   "metadata": {},
   "source": [
    "# III. Application au traitement d'images"
   ]
  },
  {
   "cell_type": "markdown",
   "metadata": {},
   "source": [
    "Depuis Moodle, télécharger le fichier `photo.npy`, et le placer dans le même dossier que celui contenant ce notebook. Vous pourrez ensuite charger ce fichier comme une image dans python via la commande `np.load`, qui l'importe comme une matrice (dont les coefficients correspondent aux pixels) ; et l'afficher avec la commande `imshow`."
   ]
  },
  {
   "cell_type": "code",
   "execution_count": 251,
   "metadata": {},
   "outputs": [],
   "source": [
    "from invprob.signal import imread, imshow, gaussian_kernel, dct2, idct2\n",
    "from invprob.general import dotp"
   ]
  },
  {
   "cell_type": "code",
   "execution_count": 252,
   "metadata": {},
   "outputs": [
    {
     "data": {
      "image/png": "[encoded data removed]",
      "text/plain": [
       "<Figure size 432x288 with 1 Axes>"
      ]
     },
     "metadata": {},
     "output_type": "display_data"
    }
   ],
   "source": [
    "b = np.load('photo.npy')\n",
    "imshow(b)"
   ]
  },
  {
   "cell_type": "markdown",
   "metadata": {},
   "source": [
    "Le but de cette section va être d'essayer de retirer l'effet de flou sur cette image, en la rendant plus nette.\n",
    "Pour cela nous allons simplement *modéliser* notre problème comme un problème inverse linéaire:\n",
    "- il existe une certaine image originale, notons-la $x$, que l'on voudrait récupérer.\n",
    "- cette image a subi un \"flou\", ce qui a abouti à l'image que l'on a téléchargé. Appelons cette image $b$.\n",
    "- l'opération de floutage est en fait une opération *linéaire* (on l'admet pour l'instant), donc on peut dire que $b=Ax$, où $A$ est l'application linéaire de floutage.\n",
    "- Pour retrouver $x$ à partir de $b$, il nous \"suffit\" donc de résoudre le système $Ax=b$, ce qui revient à minimiser $\\Vert Ax-b \\Vert^2$."
   ]
  },
  {
   "cell_type": "markdown",
   "metadata": {},
   "source": [
    "**1)** Commençons par nous intéresser à cette application linéaire de floutage $A$, définie ci-dessous non pas comme une matrice mais via la fonction `flou()`."
   ]
  },
  {
   "cell_type": "code",
   "execution_count": 253,
   "metadata": {},
   "outputs": [],
   "source": [
    "# Executer cette cellule sans la modifier\n",
    "kernel_size = 3\n",
    "kernel_std = 1\n",
    "im_shape = (128,128)\n",
    "kernel_fourier = gaussian_kernel(kernel_size, kernel_std, im_shape)\n",
    "\n",
    "def flou(x): # La fonction qui permet d'évaluer A@x\n",
    "    return np.real(idct2(dct2(x) * kernel_fourier))\n",
    "\n",
    "L = np.max(np.abs(kernel_fourier)) # Ceci est la plus grande valeur propre de A.T @ A"
   ]
  },
  {
   "cell_type": "markdown",
   "metadata": {},
   "source": [
    "**1.1** Soit $b$ l'image précédemment importée. Calculer $Ab$, et afficher le résultat avec `imshow`. Faire de même avec $A^4b$. Que constatez-vous?"
   ]
  },
  {
   "cell_type": "code",
   "execution_count": 254,
   "metadata": {},
   "outputs": [
    {
     "data": {
      "image/png": "[encoded data removed]",
      "text/plain": [
       "<Figure size 432x288 with 1 Axes>"
      ]
     },
     "metadata": {},
     "output_type": "display_data"
    }
   ],
   "source": [
    "imshow(flou(b))"
   ]
  },
  {
   "cell_type": "code",
   "execution_count": 255,
   "metadata": {},
   "outputs": [
    {
     "data": {
      "image/png": "[encoded data removed]",
      "text/plain": [
       "<Figure size 432x288 with 1 Axes>"
      ]
     },
     "metadata": {},
     "output_type": "display_data"
    }
   ],
   "source": [
    "imshow(flou(flou(flou(flou(b)))))"
   ]
  },
  {
   "cell_type": "markdown",
   "metadata": {},
   "source": [
    "### We notice here that if we keep applying the blurring matrix we keep blurring it more and more"
   ]
  },
  {
   "cell_type": "markdown",
   "metadata": {},
   "source": [
    "**1.2)** Comment se convaincre que cette application `flou` est linéaire? Très simple: générer deux matrices aléatoires $X$ et $Y$ dans $\\Mm_{128,128}(\\RR)$, et vérifier que $A(X+Y)=AX + AY$."
   ]
  },
  {
   "cell_type": "code",
   "execution_count": 256,
   "metadata": {},
   "outputs": [
    {
     "data": {
      "text/plain": [
       "True"
      ]
     },
     "execution_count": 256,
     "metadata": {},
     "output_type": "execute_result"
    }
   ],
   "source": [
    "X = randn(128,128)\n",
    "Y = randn(128,128)\n",
    "\n",
    "#Due to rounding errors in python need to round (to 8 decimal places for example)\n",
    "np.allclose(flou(X+Y),flou(X)+flou(Y), atol=1e-8)\n"
   ]
  },
  {
   "cell_type": "markdown",
   "metadata": {},
   "source": [
    "**1.3)** Non seulement `flou` est linéaire, mais elle est en plus symétrique, c'est-à-dire que $A^*=A$. Pour s'en convaincre, il suffit de prendre deux matrices aléatoires $X$ et $Y$ et de vérifier que $\\langle AX,Y\\rangle = \\langle X,AY \\rangle$. On pourra utiliser la fonction `dotp(.,.)` qui calcule le produit scalaire entre deux vecteurs."
   ]
  },
  {
   "cell_type": "code",
   "execution_count": 257,
   "metadata": {},
   "outputs": [
    {
     "data": {
      "text/plain": [
       "True"
      ]
     },
     "execution_count": 257,
     "metadata": {},
     "output_type": "execute_result"
    }
   ],
   "source": [
    "#Due to rounding errors in python need to round (to 8 decimal places for example)\n",
    "round(dotp(X,flou(Y)),8)==round(dotp(flou(X),Y),8)"
   ]
  },
  {
   "cell_type": "markdown",
   "metadata": {},
   "source": [
    "2.1)** Adapter le code de la question **I.3.1)** pour coder une nouvelle fonction `defloutage`, qui:\n",
    "- prend en entrée une image floutée `b`, un nombre maximal d'itérations `itermax`\n",
    "- applique l'algorithme du gradient à pas constant à $\\Vert Ax-b \\Vert^2/2$, où $A$ est l'application de flou, en initialisant l'algorithme à zéro, et en prenant comme pas $\\rho = 1.9/L$."
   ]
  },
  {
   "cell_type": "code",
   "execution_count": 271,
   "metadata": {},
   "outputs": [],
   "source": [
    "def defloutage(b, itermax):\n",
    "    x = np.zeros((128,128))\n",
    "    for i in range(itermax):\n",
    "        x = x -1.9/L*(flou(flou(x)-b))\n",
    "    return x\n"
   ]
  },
  {
   "cell_type": "markdown",
   "metadata": {},
   "source": [
    "**2.2)** Tester cette fonction avec `itermax=2000`. Comparer le résultat avec la photo floutée originale."
   ]
  },
  {
   "cell_type": "code",
   "execution_count": null,
   "metadata": {},
   "outputs": [],
   "source": [
    "imshow(defloutage(b, 2000))"
   ]
  },
  {
   "cell_type": "code",
   "execution_count": null,
   "metadata": {},
   "outputs": [],
   "source": [
    "_ = plt.figure(dpi=100)\n",
    "_ = plt.subplot(1,2,1)\n",
    "imshow(b)\n",
    "_ = plt.subplot(1,2,2)\n",
    "imshow(defloutage(b, 2000))"
   ]
  },
  {
   "cell_type": "markdown",
   "metadata": {},
   "source": [
    "## IV. Algorithme du Gradient Stochastique pour du not-so-big-data"
   ]
  },
  {
   "cell_type": "code",
   "execution_count": null,
   "metadata": {},
   "outputs": [],
   "source": [
    "from numpy.linalg import norm, svd\n",
    "from numpy.random import randn, randint\n",
    "import random\n",
    "# Seed for np.random\n",
    "np.random.seed(seed=78)"
   ]
  },
  {
   "cell_type": "markdown",
   "metadata": {},
   "source": [
    "On s'intéresse ici à la minimisation d'une fonction logistique (régularisée):\n",
    "\n",
    "$$ f(w) = \\frac{1}{m} \\sum\\limits_{i=1}^m \\ln \\left( 1 + e^{y_i \\langle \\phi_i, w \\rangle} \\right)  + \\frac{\\mu}{2} \\Vert w \\Vert^2, $$\n",
    "\n",
    "où $\\phi_i \\in \\R^n$, $y_i \\in \\{\\pm 1 \\}$ et $\\mu >0$. Par la suite, pour plus de lisibilité on notera `nb_data` au lieu de $m$, et `dim_data` au lieu de $n$.\n",
    "\n",
    "**Dans toute la suite**, et à moins que le contraire soit précisé, tous les vecteurs devront être écrits sous la forme de vecteurs 1D : `array([1, 2, 3,...])`"
   ]
  },
  {
   "cell_type": "code",
   "execution_count": null,
   "metadata": {},
   "outputs": [],
   "source": [
    "def loss_logistic(A, y, mu, X):\n",
    "    # X est une suite de vecteurs de la forme dim_data x nb_points\n",
    "    # X peut également être simplement un seul 1D vecteur de taille dim_data\n",
    "    # La fonction renvoie un vecteur \"value\" de longueur nb_points\n",
    "    # où chaque composante value[i] vaut f(X[:,i])\n",
    "    nb_data = A.shape[0]\n",
    "    dim_data = A.shape[1]\n",
    "    if X.ndim == 1:\n",
    "        value = 0\n",
    "    else:      \n",
    "        value = np.zeros(X.shape[1])\n",
    "    for i in range(nb_data):\n",
    "        r = np.log(1 + np.exp(-(A[i,:]@X)*y[i]))\n",
    "        value = value + r \n",
    "    return (value/nb_data) + (mu/2)*(np.sum(X*X, axis=0))"
   ]
  },
  {
   "cell_type": "code",
   "execution_count": null,
   "metadata": {},
   "outputs": [],
   "source": [
    "mu = 0.2"
   ]
  },
  {
   "cell_type": "markdown",
   "metadata": {},
   "source": [
    "On rappelle si besoin que \n",
    "\n",
    "$$ \\nabla f_i(w) = \\frac{y_i e^{y_i \\langle \\phi_i, w \\rangle}}{1 + e^{y_i \\langle \\phi_i, w \\rangle}} \\phi_i + \\mu w$$\n",
    "\n",
    "L'objectif ici est d'étudier le comportement de SGD sur un exemple simple, et de regarder si les bornes que l'on a vu en cours sont pertinentes (spoiler: oui). On va notamment s'intéresser à l'influence de la taille du batch et du choix du pas. Ici le sampling sera uniforme.\n",
    "\n",
    "Afin de pouvoir visualiser par la suite les résultats des expériences, on supposera que les features sont de dimension $2$ ($n=2$)."
   ]
  },
  {
   "cell_type": "markdown",
   "metadata": {},
   "source": [
    "**1.1)** Générer un jeu de features alétoires, sous la forme d'une matrice aléatoire $A$ de taille `nb_data`x2. "
   ]
  },
  {
   "cell_type": "markdown",
   "metadata": {},
   "source": [
    "\n",
    "\n",
    "<div>\n",
    "<img src=\"https://cloud.math.univ-paris-diderot.fr/apps/files_sharing/publicpreview/Pt63MJCaF9TXbaw?x=2048&y=476&a=true&file=features.png&scalingup=0\" width=\"400\"/>\n",
    "</div>\n"
   ]
  },
  {
   "cell_type": "markdown",
   "metadata": {},
   "source": [
    "Pour l'instant on prendra `nb_data=1000`."
   ]
  },
  {
   "cell_type": "code",
   "execution_count": null,
   "metadata": {},
   "outputs": [],
   "source": []
  },
  {
   "cell_type": "markdown",
   "metadata": {},
   "source": [
    "**1.2)** Générer un jeu de labels, sous la forme d'un vecteur $y$ aléatoire de taille `nb_data` à valeurs dans $\\{ \\pm 1 \\}$."
   ]
  },
  {
   "cell_type": "code",
   "execution_count": null,
   "metadata": {},
   "outputs": [],
   "source": []
  },
  {
   "cell_type": "markdown",
   "metadata": {},
   "source": [
    "**2.1)** Définir une fonction `grad_logistic(A, y, mu, w, i)` qui prend en entrée une matrice de features `A`, un vecteur de labels `y`, le paramètre $\\mu$, un vecteur `w` dans $\\R^2$, et un entier `i` ; et qui renvoie $\\nabla f_i(w)$. On rappelle que les features correspondent aux lignes de `A`."
   ]
  },
  {
   "cell_type": "code",
   "execution_count": null,
   "metadata": {},
   "outputs": [],
   "source": [
    "def grad_logistic(A, y, mu, w, i):\n",
    "    \n",
    "    \n",
    "    \n",
    "    \n",
    "    "
   ]
  },
  {
   "cell_type": "markdown",
   "metadata": {},
   "source": [
    "**2.2)** Définir une fonction `grad_batch_logistic(A, y, mu, w, batch)` qui prend en entrée une matrice de features `A`, un vecteur de labels `y`, le paramètre $\\mu$,  un vecteur `w` dans $\\R^2$, et une *liste* `batch` d'entiers ; et qui renvoie $$\\frac{1}{\\vert batch \\vert}\\sum\\limits_{i \\in batch}\\nabla f_i(w).$$\n",
    "\n",
    "On rappelle que l'on peut faire une boucle for sur une liste donnée : `for i in nom_de_la_liste:` ; et que la longueur d'une liste s'obtient avec `len(nom_de_la_liste)`"
   ]
  },
  {
   "cell_type": "code",
   "execution_count": null,
   "metadata": {},
   "outputs": [],
   "source": [
    "def grad_batch_logistic(A, y, mu, w, batch):\n",
    "    \n",
    "    \n",
    "    \n",
    "    \n",
    "    "
   ]
  },
  {
   "cell_type": "markdown",
   "metadata": {},
   "source": [
    "**2.3)** Définir une fonction `Lipschitz_batch(A, mu, batch_size)` qui prend en entrée une matrice de features `A`, la constante `mu`, une taille de batch `batch_size` ; et qui renvoie $\\Ll$, la constante de smoothness par rapport au sampling vu en cours. On rappelle si besoin que dans notre cadre de mini-batch sampling, on a (avec `m=nb_data` et `b=batch_size`):\n",
    "$$\\Ll \\leq \\frac{(b-1)m}{(m-1)b} \\bar L + \\frac{m-b}{b(m-1)} L_{max},$$ \n",
    "où $L_{max} = \\max_i L_i$, $L_i = Lip(\\nabla f_i)$ et $\\bar L = (1/m)\\sum_i Lip(\\nabla f_i)$. \n",
    "\n",
    "**NB:**  Vous pourrez consulter le TD au sujet du calcul de $L_i$."
   ]
  },
  {
   "cell_type": "code",
   "execution_count": null,
   "metadata": {},
   "outputs": [],
   "source": [
    "# on pensera à ne pas oublier mu\n",
    "def Lipschitz_batch(A, mu, batch_size):\n",
    "    \n",
    "    \n",
    "    \n",
    "    \n",
    "    \n",
    "    "
   ]
  },
  {
   "cell_type": "markdown",
   "metadata": {},
   "source": [
    "**3.0)** Définir une fonction `SGD(A, b, mu, iter_max, batch_size, stepsize_factor, starting_point)` qui applique l'algorithme du gradient stochastique au problème de régréssion logistique présenté au début de cette section:\n",
    "- Le pas de l'algorithme sera constant, et égal à `stepsize_factor`$/\\Ll$.\n",
    "- A chaque itération, on tirera au hasard et uniformément une liste de taille `batch_size` parmi $\\{0,\\cdots,m-1\\}$, avec la commande `random.sample(range(m), batch_size)`\n",
    "- L'algorithme fera `iter_max` itérations.\n",
    "- L'algorithme commencera avec `starting_point` comme premier itéré.\n",
    "- L'algorithme renverra deux variables en sortie:\n",
    "    - Le dernier itéré de la suite (un vecteur 1D)\n",
    "    - Une matrice `iterates` de taille 2 x `iter_max`, qui contiendra (en colonnes) la suite des vecteurs $w^k$ générés par l'algorithme."
   ]
  },
  {
   "cell_type": "code",
   "execution_count": null,
   "metadata": {},
   "outputs": [],
   "source": [
    "def SGD(A, y, mu, iter_max, batch_size, stepsize_factor, starting_point):\n",
    "    \n",
    "    \n",
    "    \n",
    "    \n",
    "    \n",
    "    \n",
    "    \n",
    "    \n",
    "    \n",
    "    \n",
    "    \n",
    "    \n",
    "    \n",
    "    return w, iterates"
   ]
  },
  {
   "cell_type": "markdown",
   "metadata": {},
   "source": [
    "**3.1)** Par la suite, on aura besoin d'avoir accès à la solution \"exacte\" du problème, qu'on notera `w_sol`. Pour la calculer on utilisera `SGD` avec un batch complet (c'est à dire qu'on fera en fait l'algorithme du gradient). On prendra `stepsize_factor` (à vous de le choisir!), `starting_point=np.zeros(2)` et `iter_max` le plus grand possible sans que l'algo ne tourne plus d'une minute."
   ]
  },
  {
   "cell_type": "code",
   "execution_count": null,
   "metadata": {},
   "outputs": [],
   "source": []
  },
  {
   "cell_type": "code",
   "execution_count": null,
   "metadata": {},
   "outputs": [],
   "source": []
  },
  {
   "cell_type": "markdown",
   "metadata": {},
   "source": [
    "**3.2)** S'assurer que `w_sol` est bien un minimiseur (et donc que votre algorithme marche à peu près) en vérifiant que $\\nabla f(w_{sol}) \\simeq 0$. Vous pourrez calculer astucieusement $\\nabla f$ en utilisant la fonction `grad_batch_logistic`"
   ]
  },
  {
   "cell_type": "code",
   "execution_count": null,
   "metadata": {},
   "outputs": [],
   "source": []
  },
  {
   "cell_type": "markdown",
   "metadata": {},
   "source": [
    "**3.3)** Définir `inf_f` comme étant l'infimum de $f$, à l'aide de `w_sol` et la fonction `loss_logistic` qu'on vous a donné au début de cette section"
   ]
  },
  {
   "cell_type": "code",
   "execution_count": null,
   "metadata": {},
   "outputs": [],
   "source": []
  },
  {
   "cell_type": "markdown",
   "metadata": {},
   "source": [
    "**4)** On souhaite comparer la vitesse de convergence de la méthode, en fonction du choix de la taille de batch. Pour cela on va faire tourner l'algorithme dans 3 régimes, correspondant à trois tailles de batch: `1` (le single element sampling), `nb_data` (full batch), et `minibatch=5` (intermédiaire).\n",
    "\n",
    "**4.1)**  Utiliser l'algorithme pour chaque taille de batch. Pour chacun d'entre eux on utilisera les mêmes paramètres :`iter_max` $\\sim$ 100 (à vous de choisir), `stepsize_factor` = 0.5 et un même point initial aléatoire, par exemple `10*randn(2)` \n",
    "\n",
    "**NB:** on évite de prendre 0 comme point initial car on est dans un cadre assez spécifique où, même si `A` et `y` sont aléatoires, la solution du problème est toujours concentrée autour de 0. Ce serait tricher!"
   ]
  },
  {
   "cell_type": "code",
   "execution_count": null,
   "metadata": {},
   "outputs": [],
   "source": []
  },
  {
   "cell_type": "code",
   "execution_count": null,
   "metadata": {},
   "outputs": [],
   "source": []
  },
  {
   "cell_type": "markdown",
   "metadata": {},
   "source": [
    "**4.2)** En utilisant la liste des itérés produite par SGD, et la fonction `loss_logistic`, tracer $f(x^k) - \\inf f$ pour chacun des trois régimes. Pour tracer une courbe il suffira d'utiliser `plt.plot(iterations, vecteur_des_valeurs)`, avec `iterations=np.arange(iter_max)` . Comparer les courbes et commenter."
   ]
  },
  {
   "cell_type": "code",
   "execution_count": null,
   "metadata": {},
   "outputs": [],
   "source": []
  },
  {
   "cell_type": "code",
   "execution_count": null,
   "metadata": {},
   "outputs": [],
   "source": [
    "iterations = np.arange(iter_max)\n",
    "_ = plt.figure(dpi=100, figsize=(12, 4))\n",
    "_ = plt.yscale(\"log\") # Pour avoir une échelle logarithmique\n",
    "_ = plt.plot # full batch\n",
    "_ = plt.plot # mini batch\n",
    "_ = plt.plot # single element\n",
    "_ = plt.legend(['full batch','mini batch','single elt'])"
   ]
  },
  {
   "cell_type": "markdown",
   "metadata": {},
   "source": [
    "**4.3)** A la question précédente on a tracé la courbe de $f(x^k) - \\inf f$. Or comparer ces courbes en tout $k$ est injuste : une itération pour la méthode avec un full batch coute `nb_data` fois plus cher qu'une itération avec un batch de taille 1.\n",
    "\n",
    "Reprendre donc les deux questions précédentes, mais cette fois-ci on va pour chaque algorithme utiliser un nombre différent d'itérations, de telle façon que chaque algorithme ne passe que `10` fois sur les données, exactement. On tracera alors, pour chaque régime, une courbe *constante par morceaux*: le vecteur des abscisses `iterations` devra être modifié en fonction de la taille du batch. \n",
    "\n",
    "Commenter les courbes que vous obtenez, en faisant le lien notamment avec les résultats du cours. Pensez-vous que le problème que l'on résoud est \"facile\"? Avec quel paramètre pourriez-vous jouer pour changer cela?"
   ]
  },
  {
   "cell_type": "code",
   "execution_count": null,
   "metadata": {},
   "outputs": [],
   "source": [
    "# Une fonction qui pourra vous être utile pour transformer des vecteurs en vecteurs constants par morceaux : testez-là sur np.arange(10) !\n",
    "def dilater(x, factor):\n",
    "    # dilates x by a factor making it longer and therefore constant by parts\n",
    "    y = np.zeros(x.shape[0]*factor)\n",
    "    for k in range(x.shape[0]):\n",
    "        y[k*factor:(k+1)*factor] = x[k]\n",
    "    return y"
   ]
  },
  {
   "cell_type": "code",
   "execution_count": null,
   "metadata": {},
   "outputs": [],
   "source": []
  },
  {
   "cell_type": "code",
   "execution_count": null,
   "metadata": {},
   "outputs": [],
   "source": []
  },
  {
   "cell_type": "code",
   "execution_count": null,
   "metadata": {},
   "outputs": [],
   "source": []
  },
  {
   "cell_type": "code",
   "execution_count": null,
   "metadata": {},
   "outputs": [],
   "source": []
  },
  {
   "cell_type": "code",
   "execution_count": null,
   "metadata": {},
   "outputs": [],
   "source": []
  },
  {
   "cell_type": "code",
   "execution_count": null,
   "metadata": {},
   "outputs": [],
   "source": []
  },
  {
   "cell_type": "code",
   "execution_count": null,
   "metadata": {},
   "outputs": [],
   "source": []
  },
  {
   "cell_type": "code",
   "execution_count": null,
   "metadata": {},
   "outputs": [],
   "source": []
  },
  {
   "cell_type": "code",
   "execution_count": null,
   "metadata": {},
   "outputs": [],
   "source": []
  },
  {
   "cell_type": "code",
   "execution_count": null,
   "metadata": {},
   "outputs": [],
   "source": []
  },
  {
   "cell_type": "markdown",
   "metadata": {},
   "source": [
    "**5)** On va maintenant essayer de visualiser la trajectoires des *itérés* de la suite générée par SGD dans le plan (c'est pour cela qu'on s'est fixés `dim_data=2`). Ci-dessous, une fonction `plot_levelset` qui permet de tracer les itérés d'une suite, ainsi que d'afficher les courbes de niveau de la fonction $f$. \n",
    "\n",
    "**NB:** ne pas modifier le code ci-dessous\n",
    "\n",
    "**NB:** Si vous n'avez pas respéecté la consigne d'écrire les vecteurs comme des 1D-arrays, vous aurez ici des problèmes."
   ]
  },
  {
   "cell_type": "code",
   "execution_count": null,
   "metadata": {},
   "outputs": [],
   "source": [
    "def get_box(X, crop=None, option=None):\n",
    "    # Given a 2D sequence X of size 2 x nb_iter\n",
    "    # returns a box=[mx,Mx,my,mY] in which it belongs (for display purposes)\n",
    "    if option is \"square\":\n",
    "        min_x = np.min(X); max_x = np.max(X); min_y = min_x; max_y = max_x;\n",
    "    else:\n",
    "        min_x = np.min(X[0,:]); max_x = np.max(X[0,:]); min_y = np.min(X[1,:]); max_y = np.max(X[1,:]);\n",
    "    if crop is None: crop = 0.31\n",
    "    mx = min_x - crop * (max_x-min_x); Mx = max_x + crop * (max_x-min_x);\n",
    "    my = min_y - crop * (max_y-min_y); My = max_y + crop * (max_y-min_y);\n",
    "    return [mx, Mx, my, My]\n",
    "\n",
    "def plot_levelset(A, b, mu, iterates, box=None):\n",
    "    # Given the function f(A,b) et a 2D sequence of points (X,Y)\n",
    "    # plots the contour of the function and the sequence of iterates of size 2 x nb_iter\n",
    "    # We do it within a box=[mx,Mx,my,mY]\n",
    "    if box is None: box = get_box(iterates)\n",
    "    [mx, Mx, my, My] = box\n",
    "    x = np.linspace(mx, Mx, 50)\n",
    "    y = np.linspace(my, My, 50)\n",
    "    X_grid, Y_grid = np.meshgrid(x, y)\n",
    "    grid = np.zeros((2,50*50))\n",
    "    grid[0,:] = X_grid.reshape(50*50)\n",
    "    grid[1,:] = Y_grid.reshape(50*50)\n",
    "    Z = loss_logistic(A, b, mu, grid)\n",
    "    Z_grid = Z.reshape(50,50)\n",
    "    _=plt.contour(X_grid, Y_grid, Z_grid, colors='black') # level sets\n",
    "    _=plt.scatter(iterates[0,0],iterates[1,0], facecolors='none', edgecolors='r', s=100) # strating point\n",
    "    _=plt.scatter(iterates[0,:],iterates[1,:], facecolors='none', edgecolors='b') # trajectory\n",
    "    plt.gca().set_aspect('equal', adjustable='box')\n",
    "\n",
    "def plot_solution(w_sol, radius=None):\n",
    "    if radius is None: radius=0\n",
    "    ball = plt.Circle((w_sol[0], w_sol[1]), radius=radius, color='r', fill=False)\n",
    "    plt.gcf().gca().add_artist(ball) # the circle\n",
    "    _=plt.scatter(w_sol[0], w_sol[1], marker='*', edgecolors='r', s=100) # solution"
   ]
  },
  {
   "cell_type": "markdown",
   "metadata": {},
   "source": [
    "Ici, on va un peu changer les paramètres du problème. \n",
    "\n",
    "Générer à nouveau, comme pour la question **1)**, un jeu de données `A,y` avec `nb_data = 20`. On prendra un nouveau `mu=0.01` On pensera à égalment calculer à nouveau `w_sol`."
   ]
  },
  {
   "cell_type": "code",
   "execution_count": null,
   "metadata": {},
   "outputs": [],
   "source": []
  },
  {
   "cell_type": "code",
   "execution_count": null,
   "metadata": {},
   "outputs": [],
   "source": []
  },
  {
   "cell_type": "markdown",
   "metadata": {},
   "source": [
    "**5.1)** Faire tourner l'algorithme avec les paramètres de votre choix, et utiliser `plot_levelset(A, y, mu, iterates)` pour visualiser la suite des itérés qu'elle génère. On pourra également utiliser `plot_solution(w_sol)` pour afficher la solution du problème (pour avoir un \"joli\" point de départ, je conseille de le prendre à distance raisonable de l'origine). N'hésitez pas a tester différents paramètres et points initiaux."
   ]
  },
  {
   "cell_type": "code",
   "execution_count": null,
   "metadata": {},
   "outputs": [],
   "source": []
  },
  {
   "cell_type": "code",
   "execution_count": null,
   "metadata": {},
   "outputs": [],
   "source": []
  },
  {
   "cell_type": "code",
   "execution_count": null,
   "metadata": {},
   "outputs": [],
   "source": []
  },
  {
   "cell_type": "markdown",
   "metadata": {},
   "source": [
    "**5.2)** Faire varier la taille du batch, et la valeur de `stepsize_factor`, et décrivez ce que vous observez."
   ]
  },
  {
   "cell_type": "code",
   "execution_count": null,
   "metadata": {},
   "outputs": [],
   "source": []
  },
  {
   "cell_type": "code",
   "execution_count": null,
   "metadata": {},
   "outputs": [],
   "source": []
  },
  {
   "cell_type": "code",
   "execution_count": null,
   "metadata": {},
   "outputs": [],
   "source": []
  },
  {
   "cell_type": "markdown",
   "metadata": {},
   "source": [
    "**5.3)** D'après le cours, on sait qu'après un grand nombre d'itérations, la suite va (en moyenne) être contenue dans une boule centrée en `w_sol` et de rayon `r`, donné par\n",
    "\n",
    "$$ r = \\sqrt{\\frac{2\\sigma^2\\lambda}{\\mu}} \\quad \\text{ où } \\sigma^2 = \\E_S\\left[ \\Vert \\nabla f_S(w_{sol}) \\Vert^2 \\right] \\text{ et } \\lambda \\text{ est le pas de l'algorithme}. $$\n",
    "\n",
    "Par ailleurs, il est possible de montrer que  $\\sigma^2 = \\frac{m-b}{b(m-1)} \\frac{1}{m}\\sum\\limits_{i=1}^m \\Vert \\nabla f_i(w_{sol}) \\Vert^2$, où ici  $b$ est la taille du batch et $m$ le nombre de données (cf. [Proposition 3.10.iii ici](https://arxiv.org/pdf/1901.09401.pdf)).\n",
    "\n",
    "Définir une fonction `expected_radius(A, y, mu, w_sol, batch_size, stepsize_factor)` qui renvoie la valeur de ce rayon $r$ en fonction des paramètres du problème et de l'algorithme."
   ]
  },
  {
   "cell_type": "code",
   "execution_count": null,
   "metadata": {},
   "outputs": [],
   "source": [
    "def expected_radius(A, y, mu, w_sol, batch_size, stepsize_factor):\n",
    "    \n",
    "    \n",
    "    \n",
    "    \n",
    "    \n",
    "    \n",
    "    \n",
    "    \n",
    "    \n",
    "    "
   ]
  },
  {
   "cell_type": "markdown",
   "metadata": {},
   "source": [
    "**5.4)** Reprendre la question **5.1)** en utilisant cette fois-ci `plot_solution(w_sol, rayon)`, en utilisant un rayon que vous calculerez avec la fonction précédente. \n",
    "\n",
    "Est-ce que le résultat est fidèle à la théorie? Discuter."
   ]
  },
  {
   "cell_type": "code",
   "execution_count": null,
   "metadata": {},
   "outputs": [],
   "source": []
  },
  {
   "cell_type": "code",
   "execution_count": null,
   "metadata": {},
   "outputs": [],
   "source": []
  },
  {
   "cell_type": "code",
   "execution_count": null,
   "metadata": {},
   "outputs": [],
   "source": []
  },
  {
   "cell_type": "markdown",
   "metadata": {},
   "source": [
    "**Bonus:** Un widget interactif pour montrer la convergence des itérés"
   ]
  },
  {
   "cell_type": "code",
   "execution_count": null,
   "metadata": {},
   "outputs": [],
   "source": [
    "iter_max = 1000\n",
    "mu = 0.2\n",
    "starting_point = 3*randn(2)\n",
    "stepsize_factor_max = 1\n",
    "\n",
    "[_, X_messy] = SGD(A, y, mu, iter_max*10, \n",
    "                            batch_size=1, stepsize_factor=stepsize_factor_max,  starting_point=starting_point)\n",
    "box = get_box(X_messy, crop=0.2, option=\"square\")\n",
    "[wsol, X_GD] = SGD(A, y, mu, iter_max, \n",
    "                           batch_size=nb_data, stepsize_factor=1.9,  starting_point=starting_point)"
   ]
  },
  {
   "cell_type": "code",
   "execution_count": null,
   "metadata": {},
   "outputs": [],
   "source": [
    "def widget_iterates(stepsize_factor, batch_size):\n",
    "    [w, iterates] = SGD(A, y, mu, iter_max, \n",
    "                               batch_size=batch_size, \n",
    "                               stepsize_factor=stepsize_factor, \n",
    "                               starting_point=starting_point)\n",
    "    \n",
    "    comp = int(iter_max*batch_size/nb_data)\n",
    "    # We plot many things\n",
    "    _=plt.figure(dpi=100, figsize=(12, 4))\n",
    "    \n",
    "    rayon = expected_radius(A, y, mu, wsol, batch_size, stepsize_factor)\n",
    "    plot_levelset(A, y, mu, iterates, box=box)\n",
    "    plot_solution(wsol, rayon)\n",
    "    \n",
    "    \n",
    "    \"\"\"_ = plt.title(r\"Trajectoire de SGD, fonction logistique.\" + \n",
    "                  \"\\n  Pas relatif: \" + str(stepsize_factor) + \", batch size: \" + str(batch_size) + \n",
    "                 \"\\n Complexité: \" + str(iter_max*batch_size))\n",
    "    \"\"\"\n",
    "    #plt.gcf().gca().titleweight=\"light\"\n",
    "    _ = plt.show()"
   ]
  },
  {
   "cell_type": "code",
   "execution_count": null,
   "metadata": {},
   "outputs": [],
   "source": [
    "plt.rcParams['figure.dpi'] = 120 # To be changed depending on screen resolution\n",
    "interactive(widget_iterates, \n",
    "            stepsize_factor=widgets.FloatSlider(min=0.01, max=stepsize_factor_max, step=0.01, value=0.5), \n",
    "            batch_size=widgets.IntSlider(min=1, max=nb_data, step=1, value=1))"
   ]
  }
 ],
 "metadata": {
  "kernelspec": {
   "display_name": "Python 3",
   "language": "python",
   "name": "python3"
  },
  "language_info": {
   "codemirror_mode": {
    "name": "ipython",
    "version": 3
   },
   "file_extension": ".py",
   "mimetype": "text/x-python",
   "name": "python",
   "nbconvert_exporter": "python",
   "pygments_lexer": "ipython3",
   "version": "3.6.5"
  }
 },
 "nbformat": 4,
 "nbformat_minor": 4
}
